{
  "nbformat": 4,
  "nbformat_minor": 0,
  "metadata": {
    "colab": {
      "private_outputs": true,
      "provenance": [],
      "collapsed_sections": [
        "vncDsAP0Gaoa",
        "FJNUwmbgGyua",
        "w6K7xa23Elo4",
        "yQaldy8SH6Dl",
        "mDgbUHAGgjLW",
        "O_i_v8NEhb9l",
        "HhfV-JJviCcP",
        "Y3lxredqlCYt",
        "3RnN4peoiCZX",
        "x71ZqKXriCWQ",
        "7hBIi_osiCS2",
        "JlHwYmJAmNHm",
        "35m5QtbWiB9F",
        "PoPl-ycgm1ru",
        "H0kj-8xxnORC",
        "nA9Y7ga8ng1Z",
        "PBTbrJXOngz2",
        "u3PMJOP6ngxN",
        "dauF4eBmngu3",
        "bKJF3rekwFvQ",
        "MSa1f5Uengrz",
        "GF8Ens_Soomf",
        "0wOQAZs5pc--",
        "K5QZ13OEpz2H",
        "lQ7QKXXCp7Bj",
        "448CDAPjqfQr",
        "KSlN3yHqYklG",
        "t6dVpIINYklI",
        "ijmpgYnKYklI",
        "-JiQyfWJYklI",
        "EM7whBJCYoAo",
        "fge-S5ZAYoAp",
        "85gYPyotYoAp",
        "RoGjAbkUYoAp",
        "4Of9eVA-YrdM",
        "iky9q4vBYrdO",
        "F6T5p64dYrdO",
        "y-Ehk30pYrdP",
        "bamQiAODYuh1",
        "QHF8YVU7Yuh3",
        "GwzvFGzlYuh3",
        "qYpmQ266Yuh3",
        "OH-pJp9IphqM",
        "bbFf2-_FphqN",
        "_ouA3fa0phqN",
        "Seke61FWphqN",
        "PIIx-8_IphqN",
        "t27r6nlMphqO",
        "r2jJGEOYphqO",
        "b0JNsNcRphqO",
        "BZR9WyysphqO",
        "jj7wYXLtphqO",
        "eZrbJ2SmphqO",
        "rFu4xreNphqO",
        "YJ55k-q6phqO",
        "gCFgpxoyphqP",
        "OVtJsKN_phqQ",
        "lssrdh5qphqQ",
        "U2RJ9gkRphqQ",
        "1M8mcRywphqQ",
        "tgIPom80phqQ",
        "JMzcOPDDphqR",
        "x-EpHcCOp1ci",
        "X_VqEhTip1ck",
        "8zGJKyg5p1ck",
        "PVzmfK_Ep1ck",
        "n3dbpmDWp1ck",
        "ylSl6qgtp1ck",
        "ZWILFDl5p1ck",
        "M7G43BXep1ck",
        "Ag9LCva-p1cl",
        "E6MkPsBcp1cl",
        "2cELzS2fp1cl",
        "3MPXvC8up1cl",
        "NC_X3p0fY2L0",
        "UV0SzAkaZNRQ",
        "YPEH6qLeZNRQ",
        "q29F0dvdveiT",
        "EXh0U9oCveiU",
        "22aHeOlLveiV",
        "g-ATYxFrGrvw",
        "Yfr_Vlr8HBkt",
        "8yEUt7NnHlrM",
        "tEA2Xm5dHt1r",
        "I79__PHVH19G",
        "Ou-I18pAyIpj",
        "fF3858GYyt-u",
        "4_0_7-oCpUZd",
        "hwyV_J3ipUZe",
        "3yB-zSqbpUZe",
        "dEUvejAfpUZe",
        "Fd15vwWVpUZf",
        "bn_IUdTipZyH",
        "49K5P_iCpZyH",
        "Nff-vKELpZyI",
        "kLW572S8pZyI",
        "dWbDXHzopZyI",
        "yLjJCtPM0KBk",
        "xiyOF9F70UgQ",
        "7wuGOrhz0itI",
        "id1riN9m0vUs",
        "578E2V7j08f6",
        "89xtkJwZ18nB",
        "67NQN5KX2AMe",
        "Iwf50b-R2tYG",
        "GMQiZwjn3iu7",
        "WVIkgGqN3qsr",
        "XkPnILGE3zoT",
        "Hlsf0x5436Go",
        "mT9DMSJo4nBL",
        "c49ITxTc407N",
        "OeJFEK0N496M",
        "9ExmJH0g5HBk",
        "cJNqERVU536h",
        "k5UmGsbsOxih",
        "T0VqWOYE6DLQ",
        "qBMux9mC6MCf",
        "-oLEiFgy-5Pf",
        "C74aWNz2AliB",
        "2DejudWSA-a0",
        "pEMng2IbBLp7",
        "rAdphbQ9Bhjc",
        "TNVZ9zx19K6k",
        "nqoHp30x9hH9",
        "rMDnDkt2B6du",
        "yiiVWRdJDDil",
        "1UUpS68QDMuG",
        "kexQrXU-DjzY",
        "T5CmagL3EC8N",
        "BhH2vgX9EjGr",
        "qjKvONjwE8ra",
        "P1XJ9OREExlT",
        "VFOzZv6IFROw",
        "TIqpNgepFxVj",
        "VfCC591jGiD4",
        "OB4l2ZhMeS1U",
        "ArJBuiUVfxKd",
        "4qY1EAkEfxKe",
        "PiV4Ypx8fxKe",
        "TfvqoZmBfxKf",
        "dJ2tPlVmpsJ0",
        "JWYfwnehpsJ1",
        "-jK_YjpMpsJ2",
        "HAih1iBOpsJ2",
        "zVGeBEFhpsJ2",
        "bmKjuQ-FpsJ3",
        "Fze-IPXLpx6K",
        "7AN1z2sKpx6M",
        "9PIHJqyupx6M",
        "_-qAgymDpx6N",
        "Z-hykwinpx6N",
        "h_CCil-SKHpo",
        "cBFFvTBNJzUa",
        "HvGl1hHyA_VK",
        "EyNgTHvd2WFk",
        "KH5McJBi2d8v",
        "iW_Lq9qf2h6X",
        "-Kee-DAl2viO",
        "gCX9965dhzqZ",
        "gIfDvo9L0UH2"
      ],
      "cell_execution_strategy": "setup",
      "include_colab_link": true
    },
    "kernelspec": {
      "name": "python3",
      "display_name": "Python 3"
    },
    "language_info": {
      "name": "python"
    }
  },
  "cells": [
    {
      "cell_type": "markdown",
      "metadata": {
        "id": "view-in-github",
        "colab_type": "text"
      },
      "source": [
        "<a href=\"https://colab.research.google.com/github/satyamkumarsengar/Capstone-Project-1_AirBnb-Bookings-Analysis/blob/main/Airbnb_Booking_Analysis__Capstone__Project_(Satyam).ipynb\" target=\"_parent\"><img src=\"https://colab.research.google.com/assets/colab-badge.svg\" alt=\"Open In Colab\"/></a>"
      ]
    },
    {
      "cell_type": "markdown",
      "source": [
        "# **Project Name**    - Air bnb EDA Project\n",
        "\n"
      ],
      "metadata": {
        "id": "vncDsAP0Gaoa"
      }
    },
    {
      "cell_type": "markdown",
      "source": [
        "##### **Project Type**    - EDA\n",
        "##### **Contribution**    - Individual/Satyam Kumar Sengar\n"
      ],
      "metadata": {
        "id": "beRrZCGUAJYm"
      }
    },
    {
      "cell_type": "markdown",
      "source": [
        "# **Project Summary -**"
      ],
      "metadata": {
        "id": "FJNUwmbgGyua"
      }
    },
    {
      "cell_type": "markdown",
      "source": [
        "Since its founding in 2008, Airbnb has unquestionably transformed the tourism sector by changing how consumers view and interact with housing. Airbnb has grown from its modest beginnings into a global phenomenon thanks to this paradigm change in hospitality that empowers both hosts and guests and ushers in a new era of individualized travel. This transformative journey, supported by a commitment to actual experiences, has cemented Airbnb's status as a trailblazing force in the sharing economy. By utilizing data, the company has been able to direct its growth and adjust to the changing demands of its broad user base by drawing insights from millions of listings.\n",
        "\n",
        "The unmatched access to a wealth of data that Airbnb has had, a resource that has been crucial in determining the course of the platform, is one of the main forces behind the incredible success story of the company. With a sizable dataset of over 49,000 observations spread across 16 different categories, Airbnb has access to a wealth of data that provides a comprehensive picture of its environment. This combination of numerical and category data is the key to understanding user behavior, trends, and preferences. These insights in turn direct strategic choices in many areas of the firm.\n",
        "\n",
        "It is impossible to exaggerate how important data analysis is to improving many different aspects of Airbnb's business. The dataset's findings offer a wide-ranging lens through which the business might improve its services:\n",
        "\n",
        "The guiding principles of Airbnb place a high priority on community trust and safety. The technology is prepared to find patterns and behaviors that could point to possible threats through intelligent data analysis. This capacity for seeing new trends permits the proactive adoption of policies that protect users' wellbeing.\n",
        "\n",
        "Creating a customized Airbnb experience depends on having a solid understanding of customer behavior. The program fine-tunes its recommendations by carefully examining booking trends, property preferences, and customer feedback. This strategy makes sure that users are put in touch with accommodations that perfectly match their individual interests.\n",
        "\n",
        "Airbnb is able to make strategic decisions that promote innovation and help it keep a competitive edge in a fast-moving market thanks to the insights gained from data. By using the potential of its large dataset, the firm continues to lead the travel industry in identifying top-performing listings and forecasting market trends.\n",
        "\n",
        "Data analysis is still a key component of Airbnb's growth strategy as it moves forward in its evolutionary process. An understanding of the company's evolutionary path is provided by the thorough analysis of this data-rich archive. This consistent drive to create relationships and offer unrivaled travel experiences on a worldwide scale highlights Airbnb's commitment to its purpose.\n",
        "\n",
        "The data-driven success of Airbnb is visible in both its business practices and cultural impact. Airbnb has unintentionally democratized travel and lodging, which has helped to promote cross-cultural dialogue and understanding. Travelers now have the chance to contact hosts, who frequently offer uncommon views and experiences, and immerse themselves in local communities. This process may help to reduce cultural differences and advance global interconnection. Airbnb is a true leader of the contemporary sharing economy because of the way it uses data to transform the hospitality sector while simultaneously fostering a feeling of global community and mutual enrichment.\n",
        "\n"
      ],
      "metadata": {
        "id": "jIRLFLdcISFN"
      }
    },
    {
      "cell_type": "markdown",
      "source": [
        "# **GitHub Link -**"
      ],
      "metadata": {
        "id": "w6K7xa23Elo4"
      }
    },
    {
      "cell_type": "markdown",
      "source": [
        "Provide your GitHub Link here."
      ],
      "metadata": {
        "id": "h1o69JH3Eqqn"
      }
    },
    {
      "cell_type": "markdown",
      "source": [
        "https://github.com/satyamkumarsengar/Capstone-Project-1_AirBnb-Bookings-Analysis"
      ],
      "metadata": {
        "id": "JvwV-PpiYaUU"
      }
    },
    {
      "cell_type": "markdown",
      "source": [
        "# **Problem Statement**\n"
      ],
      "metadata": {
        "id": "yQaldy8SH6Dl"
      }
    },
    {
      "cell_type": "markdown",
      "source": [
        "1.What can we learn about different hosts and areas?\n",
        "\n",
        "2.What we learn from room type and their prices according to area?\n",
        "\n",
        "3.What can we learn from Data?(ex:locations,prices,reviews,etc)\n",
        "\n",
        "4.Which hosts are the busiest and why is the reason?\n",
        "\n",
        "5.Which Hosts are charging higher price?\n",
        "\n",
        "6.Is there any traffic diference among different areas and what could be the reason for it?\n",
        "\n",
        "7.What is the correlation between different variables?\n",
        "\n",
        "8.What is the room count in overall NYC according to the listing or room types?\n",
        "\n",
        "9.What is the average preferred price by customers according to the location?\n",
        "\n",
        "10.Where are the most of the host located?\n",
        "\n",
        "11.How to Define the airbnb booking database in Violin plots?\n",
        "\n",
        "12.How to Define the airbnb booking database in Stripplots?\n",
        "\n",
        "13.How to Define the airbnb booking in id, host id, room type, price and minimum nights database in Pairplots?\n",
        "\n",
        "\n",
        "\n",
        "\n",
        "\n",
        "\n"
      ],
      "metadata": {
        "id": "tAWYWpLJb4Xy"
      }
    },
    {
      "cell_type": "markdown",
      "source": [
        "# **General Guidelines** : -  "
      ],
      "metadata": {
        "id": "mDgbUHAGgjLW"
      }
    },
    {
      "cell_type": "markdown",
      "source": [
        "1.   Well-structured, formatted, and commented code is required.\n",
        "2.   Exception Handling, Production Grade Code & Deployment Ready Code will be a plus. Those students will be awarded some additional credits.\n",
        "     \n",
        "     The additional credits will have advantages over other students during Star Student selection.\n",
        "       \n",
        "             [ Note: - Deployment Ready Code is defined as, the whole .ipynb notebook should be executable in one go\n",
        "                       without a single error logged. ]\n",
        "\n",
        "3.   Each and every logic should have proper comments.\n",
        "4. You may add as many number of charts you want. Make Sure for each and every chart the following format should be answered.\n",
        "        \n",
        "\n",
        "```\n",
        "# Chart visualization code\n",
        "```\n",
        "            \n",
        "\n",
        "*   Why did you pick the specific chart?\n",
        "*   What is/are the insight(s) found from the chart?\n",
        "* Will the gained insights help creating a positive business impact?\n",
        "Are there any insights that lead to negative growth? Justify with specific reason.\n",
        "\n",
        "5. You have to create at least 15 logical & meaningful charts having important insights.\n",
        "\n",
        "\n",
        "[ Hints : - Do the Vizualization in  a structured way while following \"UBM\" Rule.\n",
        "\n",
        "U - Univariate Analysis,\n",
        "\n",
        "B - Bivariate Analysis (Numerical - Categorical, Numerical - Numerical, Categorical - Categorical)\n",
        "\n",
        "M - Multivariate Analysis\n",
        " ]\n",
        "\n",
        "\n",
        "\n",
        "\n",
        "\n",
        "6. You may add more ml algorithms for model creation. Make sure for each and every algorithm, the following format should be answered.\n",
        "\n",
        "\n",
        "*   Explain the ML Model used and it's performance using Evaluation metric Score Chart.\n",
        "\n",
        "\n",
        "*   Cross- Validation & Hyperparameter Tuning\n",
        "\n",
        "*   Have you seen any improvement? Note down the improvement with updates Evaluation metric Score Chart.\n",
        "\n",
        "*   Explain each evaluation metric's indication towards business and the business impact pf the ML model used.\n",
        "\n",
        "\n",
        "\n",
        "\n",
        "\n",
        "\n",
        "\n",
        "\n",
        "\n",
        "\n",
        "\n",
        "\n",
        "\n",
        "\n",
        "\n",
        "\n",
        "\n",
        "\n"
      ],
      "metadata": {
        "id": "ZrxVaUj-hHfC"
      }
    },
    {
      "cell_type": "markdown",
      "source": [
        "# ***Let's Begin !***"
      ],
      "metadata": {
        "id": "O_i_v8NEhb9l"
      }
    },
    {
      "cell_type": "markdown",
      "source": [
        "## ***1. Know Your Data***"
      ],
      "metadata": {
        "id": "HhfV-JJviCcP"
      }
    },
    {
      "cell_type": "markdown",
      "source": [
        "### Import Libraries"
      ],
      "metadata": {
        "id": "Y3lxredqlCYt"
      }
    },
    {
      "cell_type": "code",
      "source": [
        "# Import Libraries\n",
        "import matplotlib.pyplot as plt\n",
        "%matplotlib inline\n",
        "import seaborn as sns\n",
        "import pandas as pd\n",
        "import numpy as np"
      ],
      "metadata": {
        "id": "M8Vqi-pPk-HR"
      },
      "execution_count": null,
      "outputs": []
    },
    {
      "cell_type": "markdown",
      "source": [
        "*Mount drive*"
      ],
      "metadata": {
        "id": "mAUI1GDG7YU5"
      }
    },
    {
      "cell_type": "code",
      "source": [
        "# Mount drive\n",
        "from google.colab import drive\n",
        "drive.mount(\"/content/drive\")"
      ],
      "metadata": {
        "id": "CWfYU1Qp7j04"
      },
      "execution_count": null,
      "outputs": []
    },
    {
      "cell_type": "markdown",
      "source": [
        "### Dataset Loading"
      ],
      "metadata": {
        "id": "3RnN4peoiCZX"
      }
    },
    {
      "cell_type": "code",
      "source": [
        "# Load Dataset\n",
        "airbnb_df= pd.read_csv(\"/content/drive/MyDrive/Airbnb NYC 2019.csv\")\n",
        "airbnb_df"
      ],
      "metadata": {
        "id": "4CkvbW_SlZ_R"
      },
      "execution_count": null,
      "outputs": []
    },
    {
      "cell_type": "markdown",
      "source": [
        "### Dataset First View"
      ],
      "metadata": {
        "id": "x71ZqKXriCWQ"
      }
    },
    {
      "cell_type": "code",
      "source": [
        "# Dataset First Look\n",
        "airbnb_df.head()\n"
      ],
      "metadata": {
        "id": "LWNFOSvLl09H"
      },
      "execution_count": null,
      "outputs": []
    },
    {
      "cell_type": "code",
      "source": [
        "airbnb_df.tail()"
      ],
      "metadata": {
        "id": "vLvJkG_8WZlI"
      },
      "execution_count": null,
      "outputs": []
    },
    {
      "cell_type": "code",
      "source": [
        "airbnb_df.shape"
      ],
      "metadata": {
        "id": "KEP-Zmj-LlGF"
      },
      "execution_count": null,
      "outputs": []
    },
    {
      "cell_type": "code",
      "source": [
        "cat_col=airbnb_df.select_dtypes(include='object').columns\n",
        "print(list(cat_col))"
      ],
      "metadata": {
        "id": "t4Bh2z5YVjy4"
      },
      "execution_count": null,
      "outputs": []
    },
    {
      "cell_type": "code",
      "source": [
        "num_col=airbnb_df.select_dtypes(exclude='object').columns\n",
        "list(num_col)"
      ],
      "metadata": {
        "id": "G2jyEPGoWA96"
      },
      "execution_count": null,
      "outputs": []
    },
    {
      "cell_type": "markdown",
      "source": [
        "### Dataset Rows & Columns count"
      ],
      "metadata": {
        "id": "7hBIi_osiCS2"
      }
    },
    {
      "cell_type": "code",
      "source": [
        "from tables.table import Column\n",
        "# Dataset Rows & Columns count\n",
        "airbnb_df.columns"
      ],
      "metadata": {
        "id": "Kllu7SJgmLij"
      },
      "execution_count": null,
      "outputs": []
    },
    {
      "cell_type": "code",
      "source": [
        "row_count=airbnb_df.shape[0]\n",
        "row_count"
      ],
      "metadata": {
        "id": "3Bmr4rZBPQ7S"
      },
      "execution_count": null,
      "outputs": []
    },
    {
      "cell_type": "code",
      "source": [
        "airbnb_df.describe()"
      ],
      "metadata": {
        "id": "74B0kRMrXNDJ"
      },
      "execution_count": null,
      "outputs": []
    },
    {
      "cell_type": "markdown",
      "source": [
        "### Dataset Information"
      ],
      "metadata": {
        "id": "JlHwYmJAmNHm"
      }
    },
    {
      "cell_type": "code",
      "source": [
        "# Dataset Info\n",
        "airbnb_df.info()"
      ],
      "metadata": {
        "id": "e9hRXRi6meOf"
      },
      "execution_count": null,
      "outputs": []
    },
    {
      "cell_type": "code",
      "source": [
        "data=airbnb_df.drop(['id','last_review'],axis=1)"
      ],
      "metadata": {
        "id": "LF7akUlyXkl6"
      },
      "execution_count": null,
      "outputs": []
    },
    {
      "cell_type": "code",
      "source": [
        "data.shape"
      ],
      "metadata": {
        "id": "WwXbq8k4X8rm"
      },
      "execution_count": null,
      "outputs": []
    },
    {
      "cell_type": "code",
      "source": [
        "data.isnull().sum()"
      ],
      "metadata": {
        "id": "Hl87i6fpX_0I"
      },
      "execution_count": null,
      "outputs": []
    },
    {
      "cell_type": "code",
      "source": [
        "data.fillna({'name':'not present','host_name':'absent','reviews_per_month':0},inplace = True)"
      ],
      "metadata": {
        "id": "pzlOF7EVYVgr"
      },
      "execution_count": null,
      "outputs": []
    },
    {
      "cell_type": "code",
      "source": [
        "data.isnull().sum()"
      ],
      "metadata": {
        "id": "OvFp1pbNYxPi"
      },
      "execution_count": null,
      "outputs": []
    },
    {
      "cell_type": "code",
      "source": [
        "data.describe()"
      ],
      "metadata": {
        "id": "UlyrOqKQZK-k"
      },
      "execution_count": null,
      "outputs": []
    },
    {
      "cell_type": "markdown",
      "source": [
        "# 1.What can we learn about different hosts and areas?\n",
        "\n",
        "\n",
        "\n"
      ],
      "metadata": {
        "id": "oYYbKJAdcMFT"
      }
    },
    {
      "cell_type": "code",
      "source": [
        "host_areas=airbnb_df.groupby(['host_name','neighbourhood_group'])[\"calculated_host_listings_count\"].max().reset_index()\n",
        "host_areas.sort_values(by='calculated_host_listings_count',ascending=False).head(5)"
      ],
      "metadata": {
        "id": "iqnCIJ1KceBH"
      },
      "execution_count": null,
      "outputs": []
    },
    {
      "cell_type": "markdown",
      "source": [
        "We find that Host name **Sonder(NYC)** has listed highest number of listing in Manhattan followed by Blueground"
      ],
      "metadata": {
        "id": "WzP5Vm-0eMJe"
      }
    },
    {
      "cell_type": "markdown",
      "source": [
        "\n",
        "# 2.What we learn from room type and their prices according to area?"
      ],
      "metadata": {
        "id": "nc9QhJ_FfDhO"
      }
    },
    {
      "cell_type": "code",
      "source": [
        "room_price_area_wise=airbnb_df.groupby(['neighbourhood_group','room_type'])['price'].max().reset_index()\n",
        "room_price_area_wise.sort_values(by='price',ascending=False).head(10)"
      ],
      "metadata": {
        "id": "XjUx53U_fa9Y"
      },
      "execution_count": null,
      "outputs": []
    },
    {
      "cell_type": "markdown",
      "source": [
        "# Visualize the data"
      ],
      "metadata": {
        "id": "qFtY_RCngTCE"
      }
    },
    {
      "cell_type": "code",
      "source": [
        "var= airbnb_df.groupby(['neighbourhood_group','room_type'])['price'].mean().unstack()\n",
        "fig=plt.figure(figsize=(20,12))\n",
        "var.plot(kind='bar',stacked=False)"
      ],
      "metadata": {
        "id": "kuT0Af1bhCg6"
      },
      "execution_count": null,
      "outputs": []
    },
    {
      "cell_type": "markdown",
      "source": [
        "We found that Entire home/apt is the highest number of room types overall and prices are high in the **brooklyn** and **Manhattan** for entire home/apt."
      ],
      "metadata": {
        "id": "CiTxtuaFkKPo"
      }
    },
    {
      "cell_type": "markdown",
      "source": [
        "# 3.What can we learn from Data?(ex:locations,prices,reviews,etc)"
      ],
      "metadata": {
        "id": "_ywlf1e3kjSM"
      }
    },
    {
      "cell_type": "code",
      "source": [
        "area_reviews =airbnb_df.groupby(['neighbourhood_group'])['number_of_reviews'].max().reset_index()\n",
        "area_reviews"
      ],
      "metadata": {
        "id": "8UD7fzmVk5y3"
      },
      "execution_count": null,
      "outputs": []
    },
    {
      "cell_type": "code",
      "source": [
        "area=area_reviews['neighbourhood_group']\n",
        "review=area_reviews['number_of_reviews']\n",
        "fig= plt.figure(figsize =(15,8))\n",
        "\n",
        "plt.bar(area,review,color =\"blue\",width=0.15)\n",
        "plt.xlabel('Area')\n",
        "plt.ylabel('Review')\n",
        "plt.title(\"number of Reviews in terms of area\")\n",
        "plt.show()"
      ],
      "metadata": {
        "id": "_WTO_KMJlrBd"
      },
      "execution_count": null,
      "outputs": []
    },
    {
      "cell_type": "code",
      "source": [
        "price_area = airbnb_df.groupby(['price'])['number_of_reviews'].max().reset_index()\n",
        "price_area.head(10)"
      ],
      "metadata": {
        "id": "gmvupo62m5gw"
      },
      "execution_count": null,
      "outputs": []
    },
    {
      "cell_type": "code",
      "source": [
        "price_list= price_area['price']\n",
        "review = price_area['number_of_reviews']\n",
        "fig= plt.figure(figsize =(10,5))\n",
        "plt.scatter(price_list,review)\n",
        "plt.xlabel('Price')\n",
        "plt.ylabel('Number of reviews')\n",
        "plt.title('Number of Reviews VS Price')\n",
        "plt.show()"
      ],
      "metadata": {
        "id": "1-CaEQPDnZ0r"
      },
      "execution_count": null,
      "outputs": []
    },
    {
      "cell_type": "markdown",
      "source": [
        "From above visualization we can say that most number of people like to stay in less price and their revies are higher in those areas."
      ],
      "metadata": {
        "id": "xEdwP8jior7w"
      }
    },
    {
      "cell_type": "markdown",
      "source": [
        "# 4.Which hosts are the busiest and why is the reason?\n",
        "\n",
        "---\n",
        "\n"
      ],
      "metadata": {
        "id": "imAzsl02o-ZJ"
      }
    },
    {
      "cell_type": "code",
      "source": [
        "busy_hosts= airbnb_df.groupby(['host_id','host_name','room_type'])['number_of_reviews'].max().reset_index()\n",
        "busy_hosts= busy_hosts.sort_values(by='number_of_reviews',ascending =False).head(10)\n",
        "busy_hosts"
      ],
      "metadata": {
        "id": "5i3sWXLSpLMv"
      },
      "execution_count": null,
      "outputs": []
    },
    {
      "cell_type": "code",
      "source": [
        "name_hosts = busy_hosts['host_name']\n",
        "review_got =busy_hosts['number_of_reviews']\n",
        "fig = plt.figure(figsize =(10,5))\n",
        "plt.bar(name_hosts,review_got, color='purple',width =0.5)\n",
        "plt.xlabel('Name of the Host')\n",
        "plt.ylabel('Review')\n",
        "plt.title('Business Host in terms of reviews')\n",
        "plt.show()"
      ],
      "metadata": {
        "id": "Ze-KkmVlqon1"
      },
      "execution_count": null,
      "outputs": []
    },
    {
      "cell_type": "markdown",
      "source": [
        "We have found Busiest hosts:\n",
        "1.Dona\n",
        "2.ji\n",
        "3.Maya\n",
        "4.Carol\n",
        "5.Danielle\n",
        "\n",
        "Because these hosts listed their room types as Entire home and Private room which is preferred by most number of people and also their reviews are higher."
      ],
      "metadata": {
        "id": "O7P1wnsqr8T6"
      }
    },
    {
      "cell_type": "markdown",
      "source": [
        "# 5.Which Hosts are charging higher price?"
      ],
      "metadata": {
        "id": "0u343FmPuOhH"
      }
    },
    {
      "cell_type": "code",
      "source": [
        "Highest_price=airbnb_df.groupby(['host_id','host_name','room_type','neighbourhood_group'])['price'].max().reset_index()\n",
        "Highest_price= Highest_price.sort_values(by ='price',ascending=False).head(10)\n",
        "Highest_price"
      ],
      "metadata": {
        "id": "nfgtS0Dmumys"
      },
      "execution_count": null,
      "outputs": []
    },
    {
      "cell_type": "code",
      "source": [
        "name_of_host = Highest_price ['host_name']\n",
        "price_charge = Highest_price['price']\n",
        "fig=plt.figure(figsize =(10,5))\n",
        "\n",
        "plt.bar(name_of_host,price_charge, color ='orange',width =0.5)\n",
        "plt.xlabel(\"Name of the host\")\n",
        "plt.ylabel(\"Price\")\n",
        "plt.title(\"Hosts with maximum price charges\")\n",
        "plt.show()"
      ],
      "metadata": {
        "id": "Jqpx_uDlvm-z"
      },
      "execution_count": null,
      "outputs": []
    },
    {
      "cell_type": "markdown",
      "source": [
        "Now we have seen that 10 Hosts who are charging maximum price:\n",
        "Jelena, Kathrine,Erin,Matt,Oision,Army,Rum,Jessica,Sally,Jack\n",
        "Max Price is 10000 USD"
      ],
      "metadata": {
        "id": "rszrZJ2iw4iI"
      }
    },
    {
      "cell_type": "markdown",
      "source": [
        "# 6.Is there any traffic diference among different areas and what could be the reason for it?"
      ],
      "metadata": {
        "id": "x0iap1i4yOY_"
      }
    },
    {
      "cell_type": "code",
      "source": [
        "airbnb_df.head(10)"
      ],
      "metadata": {
        "id": "SvGJRMtTySec"
      },
      "execution_count": null,
      "outputs": []
    },
    {
      "cell_type": "code",
      "source": [
        "traffic_areas = airbnb_df.groupby(['neighbourhood_group','room_type'])['minimum_nights'].count().reset_index()\n",
        "traffic_areas = traffic_areas.sort_values(by='minimum_nights',ascending =False).head(10)\n",
        "traffic_areas"
      ],
      "metadata": {
        "id": "FJyPEOC-zMTw"
      },
      "execution_count": null,
      "outputs": []
    },
    {
      "cell_type": "code",
      "source": [
        "areas_Traffic =traffic_areas ['room_type']\n",
        "room_stayed =traffic_areas['minimum_nights']\n",
        "fig=plt.figure(figsize=(7,5))\n",
        "\n",
        "plt.bar(areas_Traffic,room_stayed,color='blue',width=0.2)\n",
        "plt.xlabel(\"Room Type\")\n",
        "plt.ylabel(\"Minimum Night\")\n",
        "plt.title(\"Traffic Areas based on Minimum Nights Booked\")\n",
        "plt.show()"
      ],
      "metadata": {
        "id": "xozrm7F81GUY"
      },
      "execution_count": null,
      "outputs": []
    },
    {
      "cell_type": "markdown",
      "source": [
        "From this visualization We found that most of the people likely to stay at Entire home and  Private room which are present in Manhattan,Brooklyn & Queens and also visitors referring stay in room which listing price is less."
      ],
      "metadata": {
        "id": "eVoVmb0x3YkT"
      }
    },
    {
      "cell_type": "markdown",
      "source": [
        "# 7.What is the correlation between different variables?"
      ],
      "metadata": {
        "id": "xswGkUPY4ljq"
      }
    },
    {
      "cell_type": "code",
      "source": [
        "corr =airbnb_df.corr(method ='kendall')\n",
        "fig=plt.figure(figsize=(12,6))\n",
        "sns.heatmap(corr,annot =True)\n",
        "airbnb_df.columns\n"
      ],
      "metadata": {
        "id": "VU7Lzrzd40mf"
      },
      "execution_count": null,
      "outputs": []
    },
    {
      "cell_type": "markdown",
      "source": [
        "We have seen all the correlation between different variables"
      ],
      "metadata": {
        "id": "eRusyxa1-w8g"
      }
    },
    {
      "cell_type": "markdown",
      "source": [
        "# 8.What is the room count in overall NYC according to the listing or room types?"
      ],
      "metadata": {
        "id": "8z_JJPao--9t"
      }
    },
    {
      "cell_type": "code",
      "source": [
        "import matplotlib.pyplot as plt\n",
        "import seaborn as sns\n",
        "\n",
        "plt.rcParams['figure.figsize'] = (8, 5)\n",
        "ax = sns.countplot(y='room_type', hue='neighbourhood_group', data=airbnb_df, palette='bright')\n",
        "\n",
        "total = len(airbnb_df['room_type'])\n",
        "for p in ax.patches:\n",
        "    percentage = '{:.1f}%'.format(100 * p.get_width() / total)\n",
        "    x = p.get_width() + 0.02\n",
        "    y = p.get_y() + p.get_height() / 2\n",
        "    ax.annotate(percentage, (x, y))\n",
        "\n",
        "plt.title('Count of each room types in NYC')\n",
        "plt.xlabel('Rooms')\n",
        "plt.ylabel('Room Counts')\n",
        "plt.xticks(rotation=90)\n",
        "plt.show()\n"
      ],
      "metadata": {
        "id": "m2oRq7nY_NVj"
      },
      "execution_count": null,
      "outputs": []
    },
    {
      "cell_type": "markdown",
      "source": [
        "Manhattan has more listed properties with Entire home/apt around 27% of total listed properties followed by the Brooklyn with around 19.6%.\n",
        "\n",
        "Private rooms are more in Brooklyn as in 20.7% of the total listed properties followed by Manhattan with 16.3% of them. While 6.9% of private rooms are from Queens.\n",
        "\n",
        "We can infer that Brooklyn, Queens,Bronx has more private rooms types while Manhattan which has the highest no of listing in entire NYC has more Entire/apt room types."
      ],
      "metadata": {
        "id": "MDrcY2ICHS8E"
      }
    },
    {
      "cell_type": "markdown",
      "source": [
        "# 9.What is the average preferred price by customers according to the location?"
      ],
      "metadata": {
        "id": "JNlcsFDn76Ly"
      }
    },
    {
      "cell_type": "code",
      "source": [
        "airbnb_df.head()"
      ],
      "metadata": {
        "id": "QYJHy6ahLID4"
      },
      "execution_count": null,
      "outputs": []
    },
    {
      "cell_type": "code",
      "source": [
        "avg_preffered_price_df=airbnb_df.groupby(['neighbourhood_group','room_type'], as_index=False)['price'].mean().rename(columns={'neighbourhood_group':'location','price':'average price'})\n",
        "avg_preffered_price_df"
      ],
      "metadata": {
        "id": "GvMgL73U8E2r"
      },
      "execution_count": null,
      "outputs": []
    },
    {
      "cell_type": "code",
      "source": [
        "avg_preffered_price_df = airbnb_df.groupby(['neighbourhood_group','room_type'])['price'].mean().unstack()\n",
        "avg_preffered_price_df"
      ],
      "metadata": {
        "id": "kX9B_BRuLUxq"
      },
      "execution_count": null,
      "outputs": []
    },
    {
      "cell_type": "code",
      "source": [
        "avg_preffered_price_df.boxplot()\n",
        "plt.show()"
      ],
      "metadata": {
        "id": "IH3CcoxjLjKo"
      },
      "execution_count": null,
      "outputs": []
    },
    {
      "cell_type": "markdown",
      "source": [
        "We have seen the average preffered price by customers according to the location in show table format and barplots."
      ],
      "metadata": {
        "id": "hV9gj43YQVXu"
      }
    },
    {
      "cell_type": "markdown",
      "source": [
        "# 10.Where are the most of the host located?"
      ],
      "metadata": {
        "id": "RUmawTJEy0DK"
      }
    },
    {
      "cell_type": "code",
      "source": [
        "neighbourhood_counts = airbnb_df['neighbourhood'].value_counts()\n",
        "most_hosted_neighbourhood = neighbourhood_counts.idxmax()\n",
        "most_hosted_count = neighbourhood_counts.max()\n",
        "plt.figure(figsize=(12, 6))\n",
        "neighbourhood_counts.plot(kind='bar')\n",
        "plt.title('Number of Airbnb Hosts by Neighbourhood')\n",
        "plt.xlabel('Neighborhood')\n",
        "plt.ylabel('Number of Hosts')\n",
        "plt.xticks(rotation=45)\n",
        "plt.show()\n",
        "\n"
      ],
      "metadata": {
        "id": "pePMKnxwy4lu"
      },
      "execution_count": null,
      "outputs": []
    },
    {
      "cell_type": "markdown",
      "source": [
        "The neighbputhood with the most hosts is Williamsburg."
      ],
      "metadata": {
        "id": "t443efr502JO"
      }
    },
    {
      "cell_type": "markdown",
      "source": [
        "# 11.How to Define the airbnb booking database in Violin plots?\n",
        "\n",
        "\n",
        "\n"
      ],
      "metadata": {
        "id": "djOy6Gakn_Pz"
      }
    },
    {
      "cell_type": "code",
      "source": [
        "airbnb_df"
      ],
      "metadata": {
        "id": "CYPc4FlGoLHL"
      },
      "execution_count": null,
      "outputs": []
    },
    {
      "cell_type": "code",
      "source": [
        "sns.violinplot(airbnb_df)\n",
        "plt.show()"
      ],
      "metadata": {
        "id": "OBBhTAiFsUOh"
      },
      "execution_count": null,
      "outputs": []
    },
    {
      "cell_type": "markdown",
      "source": [
        "Airbnb booking data has shown in Violin plots."
      ],
      "metadata": {
        "id": "VD_9QmLhtR21"
      }
    },
    {
      "cell_type": "markdown",
      "source": [
        "# 12.How to Define the airbnb booking database in Stripplots?"
      ],
      "metadata": {
        "id": "F4s0MSITv4PY"
      }
    },
    {
      "cell_type": "code",
      "source": [
        "airbnb_df"
      ],
      "metadata": {
        "id": "pXIOBTaiv8LH"
      },
      "execution_count": null,
      "outputs": []
    },
    {
      "cell_type": "code",
      "source": [
        "sns.stripplot(airbnb_df)\n",
        "plt.show()"
      ],
      "metadata": {
        "id": "R8YHVz42x3iJ"
      },
      "execution_count": null,
      "outputs": []
    },
    {
      "cell_type": "markdown",
      "source": [
        "Airbnb booking data has shown in Strip plots."
      ],
      "metadata": {
        "id": "FEkpdTPBzI-L"
      }
    },
    {
      "cell_type": "markdown",
      "source": [
        "# 13.How to Define the airbnb booking in id, host id, room type, price and minimum nights database in Pairplots?\n"
      ],
      "metadata": {
        "id": "o1LfUPrDv-Aq"
      }
    },
    {
      "cell_type": "code",
      "source": [
        "airbnb_df\n"
      ],
      "metadata": {
        "id": "BHG04yeOwFwG"
      },
      "execution_count": null,
      "outputs": []
    },
    {
      "cell_type": "code",
      "source": [
        "sns.pairplot(airbnb_df[['id','host_id','room_type','price',\"minimum_nights\"]])\n",
        "plt.show()"
      ],
      "metadata": {
        "id": "32GbcpIYzIxn"
      },
      "execution_count": null,
      "outputs": []
    },
    {
      "cell_type": "markdown",
      "source": [
        "Airbnb booking data has shown id , host id , room type, price and minimum nights in pairplots."
      ],
      "metadata": {
        "id": "o7VdTtQW2gCJ"
      }
    },
    {
      "cell_type": "markdown",
      "source": [
        "# **Conclusion**"
      ],
      "metadata": {
        "id": "QQz285tiLZMC"
      }
    },
    {
      "cell_type": "markdown",
      "source": [
        "1.We find that Host name Sonder(NYC) has listed highest number of listing in Manhattan followed by Blueground.\n",
        "\n",
        "2.We found that Entire home/apt is the highest number of room types overall and prices are high in the brooklyn and Manhattan for entire home/apt.\n",
        "\n",
        "3.From above visualization we can say that most number of people like to stay in less price and their revies are higher in those areas.\n",
        "\n",
        "4.We have found Busiest hosts: 1.Dona 2.ji 3.Maya 4.Carol 5.Danielle\n",
        "\n",
        "Because these hosts listed their room types as Entire home and Private room which is preferred by most number of people and also their reviews are higher.\n",
        "\n",
        "5.Now we have seen that 10 Hosts who are charging maximum price: Jelena, Kathrine,Erin,Matt,Oision,Army,Rum,Jessica,Sally,Jack Max Price is 10000 USD\n",
        "\n",
        "6.From this visualization We found that most of the people likely to stay at Entire home and Private room which are present in Manhattan,Brooklyn & Queens and also visitors referring stay in room which listing price is less.\n",
        "\n",
        "7.We have seen all the correlation between different variables.\n",
        "\n",
        "8.Manhattan has more listed properties with Entire home/apt around 27% of total listed properties followed by the Brooklyn with around 19.6%.\n",
        "\n",
        "Private rooms are more in Brooklyn as in 20.7% of the total listed properties followed by Manhattan with 16.3% of them. While 6.9% of private rooms are from Queens.\n",
        "\n",
        "We can infer that Brooklyn, Queens,Bronx has more private rooms types while Manhattan which has the highest no of listing in entire NYC has more Entire/apt room types.\n",
        "\n",
        "9.We have seen the average preffered price by customers according to the location in show table format and barplots.\n",
        "\n",
        "10.The neighbputhood with the most hosts is Williamsburg.\n",
        "\n",
        "11.Airbnb booking data has shown in Violin plots.\n",
        "\n",
        "12.Airbnb booking data has shown in Strip plots.\n",
        "\n",
        "13.Airbnb booking data has shown id , host id , room type, price and minimum nights in pairplots.\n",
        "\n",
        "\n",
        "\n",
        "\n",
        "\n",
        "\n"
      ],
      "metadata": {
        "id": "nQR2wpaZLxeH"
      }
    },
    {
      "cell_type": "markdown",
      "source": [
        "## `****I am Really happy and Thank you so much I have Completed Python EDA Project.**** `\n",
        "\n",
        "---\n",
        "\n",
        "\n",
        "\n"
      ],
      "metadata": {
        "id": "RmWgUVsW3QV3"
      }
    }
  ]
}